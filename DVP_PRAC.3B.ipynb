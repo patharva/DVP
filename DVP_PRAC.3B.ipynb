{
 "cells": [
  {
   "cell_type": "code",
   "execution_count": 1,
   "id": "47d74297",
   "metadata": {},
   "outputs": [
    {
     "name": "stdout",
     "output_type": "stream",
     "text": [
      "Enter Data: \n",
      "23425\n"
     ]
    }
   ],
   "source": [
    "text_file = open('C:/Users/MTECH/Desktop/atharva.txt','w')\n",
    "list1 = []\n",
    "print(\"Enter Data: \")\n",
    "line = input()\n",
    "text_file.write(line)\n",
    "text_file.close()"
   ]
  },
  {
   "cell_type": "code",
   "execution_count": 24,
   "id": "6b6d3241",
   "metadata": {},
   "outputs": [
    {
     "name": "stdout",
     "output_type": "stream",
     "text": [
      "\n",
      "good afternoon evry1\n"
     ]
    }
   ],
   "source": [
    "my_file = open('C:/Users/MTECH/Desktop/atharva.txt','r')\n",
    "print(my_file.read())\n",
    "my_file.close()"
   ]
  },
  {
   "cell_type": "code",
   "execution_count": 10,
   "id": "8078da16",
   "metadata": {},
   "outputs": [],
   "source": [
    "my_file = open('C:/Users/MTECH/Desktop/atharva.txt','a+')\n",
    "my_file.write('\\ngood afternoon evry1')\n",
    "my_file.close()"
   ]
  },
  {
   "cell_type": "code",
   "execution_count": 14,
   "id": "f1464a28",
   "metadata": {},
   "outputs": [],
   "source": [
    "my_file = open('C:/Users/MTECH/Desktop/atharva.txt','w+')\n",
    "my_file.write('\\ngood afternoon evry1')\n",
    "my_file.close()"
   ]
  },
  {
   "cell_type": "code",
   "execution_count": 19,
   "id": "8e59e88b",
   "metadata": {},
   "outputs": [],
   "source": [
    "text_file = open('C:/Users/MTECH/Desktop/atharva123.txt','a')"
   ]
  },
  {
   "cell_type": "code",
   "execution_count": 21,
   "id": "c23a59ea",
   "metadata": {},
   "outputs": [],
   "source": [
    "Languages = ['Python\\n', 'Java\\n']\n",
    "my_file = open('C:/Users/MTECH/Desktop/atharvapatil.txt','w')\n",
    "my_file.writelines(Languages)\n",
    "my_file.close()"
   ]
  },
  {
   "cell_type": "code",
   "execution_count": 25,
   "id": "b536e8a3",
   "metadata": {},
   "outputs": [
    {
     "name": "stdout",
     "output_type": "stream",
     "text": [
      "Python\n",
      "Java\n",
      "\n"
     ]
    }
   ],
   "source": [
    "my_file = open('C:/Users/MTECH/Desktop/atharvapatil.txt','r')\n",
    "print(my_file.read())\n",
    "my_file.close()"
   ]
  },
  {
   "cell_type": "code",
   "execution_count": 28,
   "id": "1f486a5b",
   "metadata": {},
   "outputs": [
    {
     "name": "stdout",
     "output_type": "stream",
     "text": [
      "Enter data: \n",
      "jdsf\n",
      "Enter data: \n",
      "jksdh\n",
      "Enter data: \n",
      "nsj\n",
      "Enter data: \n",
      "vksdj\n"
     ]
    }
   ],
   "source": [
    "text_file = open('C:/Users/MTECH/Desktop/atharvapatil1.txt','w')\n",
    "word_list = []\n",
    "for i in range (1,5):\n",
    "    print(\"Enter data: \")\n",
    "    line = input()\n",
    "    word_list.append(line+'\\n')\n",
    "text_file.writelines(word_list)\n",
    "text_file.close()"
   ]
  },
  {
   "cell_type": "code",
   "execution_count": 29,
   "id": "b7120cbb",
   "metadata": {},
   "outputs": [
    {
     "name": "stdout",
     "output_type": "stream",
     "text": [
      "jdsf\n",
      "jksdh\n",
      "nsj\n",
      "vksdj\n",
      "\n"
     ]
    }
   ],
   "source": [
    "my_file = open('C:/Users/MTECH/Desktop/atharvapatil1.txt','r')\n",
    "print(my_file.read())\n",
    "my_file.close()"
   ]
  },
  {
   "cell_type": "code",
   "execution_count": 30,
   "id": "3325287f",
   "metadata": {},
   "outputs": [],
   "source": [
    "import os;\n",
    "os.remove(\"C:/Users/MTECH/Desktop/atharva123.txt\")"
   ]
  },
  {
   "cell_type": "code",
   "execution_count": 36,
   "id": "3ab36d3b",
   "metadata": {},
   "outputs": [],
   "source": [
    "import os;\n",
    "os.rename('C:/Users/MTECH/Desktop/atharvapatil1.txt' , 'C:/Users/MTECH/Desktop/atharva12345.txt')"
   ]
  },
  {
   "cell_type": "code",
   "execution_count": 45,
   "id": "f7273a00",
   "metadata": {},
   "outputs": [
    {
     "name": "stdout",
     "output_type": "stream",
     "text": [
      "1.0\n",
      "out of try except blocks\n"
     ]
    }
   ],
   "source": [
    "try:\n",
    "    a=5\n",
    "    b=5\n",
    "    print(a/b)\n",
    "except TypeError:\n",
    "    print('Unsupported error')\n",
    "except ZeroDivisionError:\n",
    "    print('Division by zero not allowed')\n",
    "print('out of try except blocks')"
   ]
  },
  {
   "cell_type": "code",
   "execution_count": 43,
   "id": "6f1eac41",
   "metadata": {},
   "outputs": [
    {
     "ename": "NameError",
     "evalue": "name 'y' is not defined",
     "output_type": "error",
     "traceback": [
      "\u001b[1;31m---------------------------------------------------------------------------\u001b[0m",
      "\u001b[1;31mNameError\u001b[0m                                 Traceback (most recent call last)",
      "Input \u001b[1;32mIn [43]\u001b[0m, in \u001b[0;36m<cell line: 2>\u001b[1;34m()\u001b[0m\n\u001b[0;32m      1\u001b[0m a\u001b[38;5;241m=\u001b[39m\u001b[38;5;241m5\u001b[39m\n\u001b[1;32m----> 2\u001b[0m b\u001b[38;5;241m=\u001b[39m\u001b[43my\u001b[49m\n\u001b[0;32m      3\u001b[0m \u001b[38;5;28mprint\u001b[39m(a\u001b[38;5;241m/\u001b[39mb)\n",
      "\u001b[1;31mNameError\u001b[0m: name 'y' is not defined"
     ]
    }
   ],
   "source": [
    "a=5\n",
    "b=y\n",
    "print(a/b)"
   ]
  },
  {
   "cell_type": "code",
   "execution_count": 47,
   "id": "cff009bd",
   "metadata": {},
   "outputs": [
    {
     "ename": "Exception",
     "evalue": "Length of the given list must be less than or equal to 3 but length is 5",
     "output_type": "error",
     "traceback": [
      "\u001b[1;31m---------------------------------------------------------------------------\u001b[0m",
      "\u001b[1;31mException\u001b[0m                                 Traceback (most recent call last)",
      "Input \u001b[1;32mIn [47]\u001b[0m, in \u001b[0;36m<cell line: 2>\u001b[1;34m()\u001b[0m\n\u001b[0;32m      1\u001b[0m num \u001b[38;5;241m=\u001b[39m [\u001b[38;5;241m3\u001b[39m,\u001b[38;5;241m4\u001b[39m,\u001b[38;5;241m5\u001b[39m,\u001b[38;5;241m6\u001b[39m,\u001b[38;5;241m7\u001b[39m]\n\u001b[0;32m      2\u001b[0m \u001b[38;5;28;01mif\u001b[39;00m \u001b[38;5;28mlen\u001b[39m(num)\u001b[38;5;241m>\u001b[39m\u001b[38;5;241m3\u001b[39m:\n\u001b[1;32m----> 3\u001b[0m     \u001b[38;5;28;01mraise\u001b[39;00m \u001b[38;5;167;01mException\u001b[39;00m( \u001b[38;5;124mf\u001b[39m\u001b[38;5;124m\"\u001b[39m\u001b[38;5;124mLength of the given list must be less than or equal to 3 but length is \u001b[39m\u001b[38;5;132;01m{\u001b[39;00m\u001b[38;5;28mlen\u001b[39m(num)\u001b[38;5;132;01m}\u001b[39;00m\u001b[38;5;124m\"\u001b[39m)\n",
      "\u001b[1;31mException\u001b[0m: Length of the given list must be less than or equal to 3 but length is 5"
     ]
    }
   ],
   "source": [
    "num = [3,4,5,6,7]\n",
    "if len(num)>3:\n",
    "    raise Exception( f\"Length of the given list must be less than or equal to 3 but length is {len(num)}\")"
   ]
  },
  {
   "cell_type": "code",
   "execution_count": 49,
   "id": "7ec35cf9",
   "metadata": {},
   "outputs": [
    {
     "name": "stdout",
     "output_type": "stream",
     "text": [
      "Enter Number: 1\n",
      "not an even no.\n"
     ]
    }
   ],
   "source": [
    "try:\n",
    "    num = int(input(\"Enter Number: \"))\n",
    "    assert num % 2 == 0\n",
    "except:\n",
    "    print(\"not an even no.\")\n",
    "else:\n",
    "    reciprocal = 1/num\n",
    "    print(reciprocal)"
   ]
  },
  {
   "cell_type": "code",
   "execution_count": 59,
   "id": "dc847ed0",
   "metadata": {},
   "outputs": [
    {
     "name": "stdout",
     "output_type": "stream",
     "text": [
      "Enter 1st no.: 2\n",
      "Enter 2st no.: 0\n",
      "error (<class 'ZeroDivisionError'>, ZeroDivisionError('division by zero'), <traceback object at 0x00000213F12E46C0>) occured\n"
     ]
    }
   ],
   "source": [
    "import sys\n",
    "try:\n",
    "    num1 = input(\"Enter 1st no.: \")\n",
    "    num2 = input(\"Enter 2st no.: \")\n",
    "    result = (int(num1)/int(num2))\n",
    "    print(result)\n",
    "except:\n",
    "    print(\"error\",sys.exc_info(),\"occured\")"
   ]
  },
  {
   "cell_type": "code",
   "execution_count": 60,
   "id": "86104055",
   "metadata": {},
   "outputs": [
    {
     "name": "stdout",
     "output_type": "stream",
     "text": [
      "Enter 1st no.: 2\n",
      "Enter 2st no.: 0\n",
      "error <class 'ZeroDivisionError'> occured\n"
     ]
    }
   ],
   "source": [
    "import sys\n",
    "try:\n",
    "    num1 = input(\"Enter 1st no.: \")\n",
    "    num2 = input(\"Enter 2st no.: \")\n",
    "    result = (int(num1)/int(num2))\n",
    "    print(result)\n",
    "except:\n",
    "    print(\"error\",sys.exc_info()[0],\"occured\")"
   ]
  },
  {
   "cell_type": "code",
   "execution_count": null,
   "id": "48612f8e",
   "metadata": {},
   "outputs": [],
   "source": []
  }
 ],
 "metadata": {
  "kernelspec": {
   "display_name": "Python 3 (ipykernel)",
   "language": "python",
   "name": "python3"
  },
  "language_info": {
   "codemirror_mode": {
    "name": "ipython",
    "version": 3
   },
   "file_extension": ".py",
   "mimetype": "text/x-python",
   "name": "python",
   "nbconvert_exporter": "python",
   "pygments_lexer": "ipython3",
   "version": "3.9.12"
  }
 },
 "nbformat": 4,
 "nbformat_minor": 5
}
