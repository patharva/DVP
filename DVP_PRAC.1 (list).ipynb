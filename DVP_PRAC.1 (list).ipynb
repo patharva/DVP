{
 "cells": [
  {
   "cell_type": "code",
   "execution_count": 1,
   "id": "c15cc0c9",
   "metadata": {},
   "outputs": [
    {
     "name": "stdout",
     "output_type": "stream",
     "text": [
      "[]\n"
     ]
    }
   ],
   "source": [
    "l1=[]\n",
    "print(l1)"
   ]
  },
  {
   "cell_type": "code",
   "execution_count": 2,
   "id": "bf2eaa35",
   "metadata": {},
   "outputs": [
    {
     "name": "stdout",
     "output_type": "stream",
     "text": [
      "[12, 3, 34, 12]\n"
     ]
    }
   ],
   "source": [
    "l2=[12,3,34,12]\n",
    "print(l2)"
   ]
  },
  {
   "cell_type": "code",
   "execution_count": 4,
   "id": "e6f12d15",
   "metadata": {},
   "outputs": [
    {
     "name": "stdout",
     "output_type": "stream",
     "text": [
      "['ATHARVA', 12345]\n"
     ]
    }
   ],
   "source": [
    "l3=[\"ATHARVA\",12345]\n",
    "print(l3)"
   ]
  },
  {
   "cell_type": "code",
   "execution_count": 5,
   "id": "738928d0",
   "metadata": {},
   "outputs": [],
   "source": [
    "#append adds a list into another list\n",
    "l3.append([555,12])"
   ]
  },
  {
   "cell_type": "code",
   "execution_count": 6,
   "id": "7f2c459c",
   "metadata": {},
   "outputs": [
    {
     "name": "stdout",
     "output_type": "stream",
     "text": [
      "['ATHARVA', 12345, [555, 12]]\n"
     ]
    }
   ],
   "source": [
    "print(l3)"
   ]
  },
  {
   "cell_type": "code",
   "execution_count": 8,
   "id": "1616fe0d",
   "metadata": {},
   "outputs": [
    {
     "name": "stdout",
     "output_type": "stream",
     "text": [
      "['ATHARVA', 12345, [555, 12], 234, 'JAY', 234, 'JAY']\n"
     ]
    }
   ],
   "source": [
    "#extend adds elements in a existing list\n",
    "l3.extend([234,'JAY'])\n",
    "print(l3)"
   ]
  },
  {
   "cell_type": "code",
   "execution_count": 10,
   "id": "5c914745",
   "metadata": {},
   "outputs": [
    {
     "name": "stdout",
     "output_type": "stream",
     "text": [
      "['ATHARVA', 'SACHIN', 'SACHIN', 12345, [555, 12], 234, 'JAY', 234, 'JAY']\n"
     ]
    }
   ],
   "source": [
    "#add element in nth location\n",
    "l3.insert(1,'SACHIN')\n",
    "print(l3)"
   ]
  },
  {
   "cell_type": "code",
   "execution_count": 11,
   "id": "8b39e435",
   "metadata": {},
   "outputs": [
    {
     "name": "stdout",
     "output_type": "stream",
     "text": [
      "['ATHARVA', 'SACHIN', 'SACHIN', 12345, [555, 12], 234, 'JAY', 234, 'PRANJAL', 'JAY']\n"
     ]
    }
   ],
   "source": [
    "l3.insert(-1,'PRANJAL')\n",
    "print(l3)"
   ]
  },
  {
   "cell_type": "code",
   "execution_count": 12,
   "id": "30cabfe0",
   "metadata": {},
   "outputs": [
    {
     "ename": "TypeError",
     "evalue": "insert expected 2 arguments, got 1",
     "output_type": "error",
     "traceback": [
      "\u001b[1;31m---------------------------------------------------------------------------\u001b[0m",
      "\u001b[1;31mTypeError\u001b[0m                                 Traceback (most recent call last)",
      "Input \u001b[1;32mIn [12]\u001b[0m, in \u001b[0;36m<cell line: 1>\u001b[1;34m()\u001b[0m\n\u001b[1;32m----> 1\u001b[0m \u001b[43ml3\u001b[49m\u001b[38;5;241;43m.\u001b[39;49m\u001b[43minsert\u001b[49m\u001b[43m(\u001b[49m\u001b[38;5;124;43m'\u001b[39;49m\u001b[38;5;124;43mPRANJAL1\u001b[39;49m\u001b[38;5;124;43m'\u001b[39;49m\u001b[43m)\u001b[49m\n\u001b[0;32m      2\u001b[0m \u001b[38;5;28mprint\u001b[39m(l3)\n",
      "\u001b[1;31mTypeError\u001b[0m: insert expected 2 arguments, got 1"
     ]
    }
   ],
   "source": [
    "#you need to specify the index\n",
    "l3.insert('PRANJAL1')\n",
    "print(l3)"
   ]
  },
  {
   "cell_type": "code",
   "execution_count": 14,
   "id": "6a172aca",
   "metadata": {},
   "outputs": [
    {
     "name": "stdout",
     "output_type": "stream",
     "text": [
      "['ATHARVA', 'SACHIN', 'SACHIN', 12345, [555, 12], 'JAY', 234, 'PRANJAL', 'JAY']\n"
     ]
    }
   ],
   "source": [
    "#delete element at index 5\n",
    "del l3[5]\n",
    "print(l3)"
   ]
  },
  {
   "cell_type": "code",
   "execution_count": 16,
   "id": "529079c9",
   "metadata": {},
   "outputs": [
    {
     "ename": "NameError",
     "evalue": "name 'l3' is not defined",
     "output_type": "error",
     "traceback": [
      "\u001b[1;31m---------------------------------------------------------------------------\u001b[0m",
      "\u001b[1;31mNameError\u001b[0m                                 Traceback (most recent call last)",
      "Input \u001b[1;32mIn [16]\u001b[0m, in \u001b[0;36m<cell line: 2>\u001b[1;34m()\u001b[0m\n\u001b[0;32m      1\u001b[0m \u001b[38;5;28;01mdel\u001b[39;00m l3\n\u001b[1;32m----> 2\u001b[0m \u001b[38;5;28mprint\u001b[39m(\u001b[43ml3\u001b[49m)\n",
      "\u001b[1;31mNameError\u001b[0m: name 'l3' is not defined"
     ]
    }
   ],
   "source": [
    "#deletes the whole list if index not specified\n",
    "del l3\n",
    "print(l3)"
   ]
  },
  {
   "cell_type": "code",
   "execution_count": 17,
   "id": "3393ea01",
   "metadata": {},
   "outputs": [
    {
     "ename": "NameError",
     "evalue": "name 'l3' is not defined",
     "output_type": "error",
     "traceback": [
      "\u001b[1;31m---------------------------------------------------------------------------\u001b[0m",
      "\u001b[1;31mNameError\u001b[0m                                 Traceback (most recent call last)",
      "Input \u001b[1;32mIn [17]\u001b[0m, in \u001b[0;36m<cell line: 1>\u001b[1;34m()\u001b[0m\n\u001b[1;32m----> 1\u001b[0m \u001b[38;5;28mprint\u001b[39m(\u001b[43ml3\u001b[49m)\n",
      "\u001b[1;31mNameError\u001b[0m: name 'l3' is not defined"
     ]
    }
   ],
   "source": [
    "print(l3)"
   ]
  },
  {
   "cell_type": "code",
   "execution_count": 19,
   "id": "3c1ec85d",
   "metadata": {},
   "outputs": [
    {
     "name": "stdout",
     "output_type": "stream",
     "text": [
      "[23, 4, 1, 45]\n"
     ]
    }
   ],
   "source": [
    "#removes a element from a list\n",
    "l4=[23,4,1,56,45]\n",
    "l4.remove(56)\n",
    "print(l4)"
   ]
  },
  {
   "cell_type": "code",
   "execution_count": 22,
   "id": "6b614530",
   "metadata": {},
   "outputs": [
    {
     "name": "stdout",
     "output_type": "stream",
     "text": [
      "[23, 4, 1]\n",
      "POPPED ELEMENT: 1 FINAL LIST: [23, 4]\n"
     ]
    }
   ],
   "source": [
    "print(l4)\n",
    "a=l4.pop(2)\n",
    "print('POPPED ELEMENT:',a,'FINAL LIST:',l4)"
   ]
  },
  {
   "cell_type": "code",
   "execution_count": 23,
   "id": "10fa8aae",
   "metadata": {},
   "outputs": [
    {
     "name": "stdout",
     "output_type": "stream",
     "text": [
      "[23, 4]\n"
     ]
    }
   ],
   "source": [
    "print(l4)"
   ]
  },
  {
   "cell_type": "code",
   "execution_count": 30,
   "id": "9027b804",
   "metadata": {},
   "outputs": [],
   "source": [
    "l4.extend([2,3,4,5,6,7,8,9])\n"
   ]
  },
  {
   "cell_type": "code",
   "execution_count": 31,
   "id": "bf03e8ac",
   "metadata": {},
   "outputs": [
    {
     "name": "stdout",
     "output_type": "stream",
     "text": [
      "[23, 4, 2, 3, 4, 5, 6, 7, 8, 2, 3, 4, 5, 6, 7, 8, 9]\n"
     ]
    }
   ],
   "source": [
    "print(l4)"
   ]
  },
  {
   "cell_type": "code",
   "execution_count": 33,
   "id": "f19e4ff7",
   "metadata": {},
   "outputs": [
    {
     "name": "stdout",
     "output_type": "stream",
     "text": [
      "8 [23, 4, 2, 3, 4, 5, 6, 7, 8, 2, 3, 4, 5, 6, 7]\n"
     ]
    }
   ],
   "source": [
    "b=l4.pop()\n",
    "print(b,l4)"
   ]
  },
  {
   "cell_type": "code",
   "execution_count": 34,
   "id": "3b277391",
   "metadata": {},
   "outputs": [
    {
     "name": "stdout",
     "output_type": "stream",
     "text": [
      "[]\n"
     ]
    }
   ],
   "source": [
    "l4.clear()\n",
    "print(l4)"
   ]
  },
  {
   "cell_type": "code",
   "execution_count": 35,
   "id": "209c6d48",
   "metadata": {},
   "outputs": [
    {
     "name": "stdout",
     "output_type": "stream",
     "text": [
      "[]\n",
      "0\n"
     ]
    }
   ],
   "source": [
    "print(l4)\n",
    "print(len(l4))"
   ]
  },
  {
   "cell_type": "code",
   "execution_count": 37,
   "id": "cbe7fcba",
   "metadata": {},
   "outputs": [
    {
     "name": "stdout",
     "output_type": "stream",
     "text": [
      "[1, 2, 3, 4, 5, 6, 7, 8]\n",
      "[1, 2, 3, 4, 5, 6, 7, 8, 35, 35]\n"
     ]
    }
   ],
   "source": [
    "l5=[1,2,3,4,5,6,7,8]\n",
    "print(l5)\n",
    "l5.extend([35,35])\n",
    "print(l5)"
   ]
  },
  {
   "cell_type": "code",
   "execution_count": 39,
   "id": "4104a9a2",
   "metadata": {},
   "outputs": [
    {
     "name": "stdout",
     "output_type": "stream",
     "text": [
      "2\n"
     ]
    }
   ],
   "source": [
    "print(l5.count(35))"
   ]
  },
  {
   "cell_type": "code",
   "execution_count": 40,
   "id": "92bb0198",
   "metadata": {},
   "outputs": [
    {
     "name": "stdout",
     "output_type": "stream",
     "text": [
      "8\n"
     ]
    }
   ],
   "source": [
    "print(l5.index(35))"
   ]
  },
  {
   "cell_type": "code",
   "execution_count": 41,
   "id": "560c6fd9",
   "metadata": {},
   "outputs": [
    {
     "name": "stdout",
     "output_type": "stream",
     "text": [
      "[1, 2, 3, 4, 5, 6, 7, 8, 35, 35]\n"
     ]
    }
   ],
   "source": [
    "print(sorted(l5))"
   ]
  },
  {
   "cell_type": "code",
   "execution_count": 42,
   "id": "19b19477",
   "metadata": {},
   "outputs": [
    {
     "name": "stdout",
     "output_type": "stream",
     "text": [
      "[1, 2, 3, 4, 5, 6, 7, 8, 35, 35, 'xyz']\n"
     ]
    }
   ],
   "source": [
    "l5.extend(['xyz'])\n",
    "print(l5)"
   ]
  },
  {
   "cell_type": "code",
   "execution_count": 43,
   "id": "694ff6f3",
   "metadata": {},
   "outputs": [
    {
     "ename": "TypeError",
     "evalue": "'<' not supported between instances of 'str' and 'int'",
     "output_type": "error",
     "traceback": [
      "\u001b[1;31m---------------------------------------------------------------------------\u001b[0m",
      "\u001b[1;31mTypeError\u001b[0m                                 Traceback (most recent call last)",
      "Input \u001b[1;32mIn [43]\u001b[0m, in \u001b[0;36m<cell line: 1>\u001b[1;34m()\u001b[0m\n\u001b[1;32m----> 1\u001b[0m \u001b[38;5;28mprint\u001b[39m(\u001b[38;5;28;43msorted\u001b[39;49m\u001b[43m(\u001b[49m\u001b[43ml5\u001b[49m\u001b[43m)\u001b[49m)\n",
      "\u001b[1;31mTypeError\u001b[0m: '<' not supported between instances of 'str' and 'int'"
     ]
    }
   ],
   "source": [
    "print(sorted(l5))"
   ]
  },
  {
   "cell_type": "code",
   "execution_count": 46,
   "id": "61749ecd",
   "metadata": {},
   "outputs": [
    {
     "name": "stdout",
     "output_type": "stream",
     "text": [
      "[1, 2, 3, 4, 5, 6, 7, 8, 35]\n"
     ]
    }
   ],
   "source": [
    "del l5[9]\n",
    "print(l5)"
   ]
  },
  {
   "cell_type": "code",
   "execution_count": 47,
   "id": "5a2dae36",
   "metadata": {},
   "outputs": [
    {
     "name": "stdout",
     "output_type": "stream",
     "text": [
      "[35, 8, 7, 6, 5, 4, 3, 2, 1]\n"
     ]
    }
   ],
   "source": [
    "l5.sort(reverse=True)\n",
    "print(l5)"
   ]
  },
  {
   "cell_type": "code",
   "execution_count": null,
   "id": "78e49c99",
   "metadata": {},
   "outputs": [],
   "source": []
  }
 ],
 "metadata": {
  "kernelspec": {
   "display_name": "Python 3 (ipykernel)",
   "language": "python",
   "name": "python3"
  },
  "language_info": {
   "codemirror_mode": {
    "name": "ipython",
    "version": 3
   },
   "file_extension": ".py",
   "mimetype": "text/x-python",
   "name": "python",
   "nbconvert_exporter": "python",
   "pygments_lexer": "ipython3",
   "version": "3.9.12"
  }
 },
 "nbformat": 4,
 "nbformat_minor": 5
}
