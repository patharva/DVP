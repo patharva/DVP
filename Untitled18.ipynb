{
 "cells": [
  {
   "cell_type": "code",
   "execution_count": 1,
   "id": "db7a5120",
   "metadata": {},
   "outputs": [],
   "source": [
    "def display():\n",
    "    print(\"hello world\")"
   ]
  },
  {
   "cell_type": "code",
   "execution_count": 1,
   "id": "78db18ed",
   "metadata": {},
   "outputs": [
    {
     "name": "stdout",
     "output_type": "stream",
     "text": [
      "enter name: atharva\n",
      "good afternoon atharva\n"
     ]
    }
   ],
   "source": [
    "name=input(\"enter name: \")\n",
    "def afternoon():\n",
    "    print(\"good afternoon\", name)\n",
    "afternoon()"
   ]
  },
  {
   "cell_type": "code",
   "execution_count": 13,
   "id": "8ea47dad",
   "metadata": {},
   "outputs": [
    {
     "name": "stdout",
     "output_type": "stream",
     "text": [
      "enter x: 1\n",
      "enter y: 1\n",
      "sum: 2\n"
     ]
    }
   ],
   "source": [
    "x=int(input(\"enter x: \"))\n",
    "y=int(input(\"enter y: \"))\n",
    "def add1(x,y):\n",
    "    a=x+y\n",
    "    print(\"sum:\", a)\n",
    "add1(x,y)\n"
   ]
  },
  {
   "cell_type": "code",
   "execution_count": 16,
   "id": "abe90b6a",
   "metadata": {},
   "outputs": [
    {
     "name": "stdout",
     "output_type": "stream",
     "text": [
      "first argument is: 2\n",
      "second argument is: 4\n",
      "third argument is: 6\n"
     ]
    },
    {
     "data": {
      "text/plain": [
       "14"
      ]
     },
     "execution_count": 16,
     "metadata": {},
     "output_type": "execute_result"
    }
   ],
   "source": [
    "def try1(x,y,z):\n",
    "    print(\"first argument is:\", x)\n",
    "    print(\"second argument is:\", y)\n",
    "    print(\"third argument is:\", z)\n",
    "    return x*y+z\n",
    "try1(2,4,6)"
   ]
  },
  {
   "cell_type": "code",
   "execution_count": 20,
   "id": "54574520",
   "metadata": {},
   "outputs": [
    {
     "ename": "NameError",
     "evalue": "name 'z' is not defined",
     "output_type": "error",
     "traceback": [
      "\u001b[1;31m---------------------------------------------------------------------------\u001b[0m",
      "\u001b[1;31mNameError\u001b[0m                                 Traceback (most recent call last)",
      "Input \u001b[1;32mIn [20]\u001b[0m, in \u001b[0;36m<cell line: 1>\u001b[1;34m()\u001b[0m\n\u001b[1;32m----> 1\u001b[0m try1(\u001b[43mz\u001b[49m,x\u001b[38;5;241m=\u001b[39m\u001b[38;5;241m10\u001b[39m,y\u001b[38;5;241m=\u001b[39m\u001b[38;5;241m20\u001b[39m)\n",
      "\u001b[1;31mNameError\u001b[0m: name 'z' is not defined"
     ]
    }
   ],
   "source": [
    "try1(z,x=10,y=20)"
   ]
  },
  {
   "cell_type": "code",
   "execution_count": 21,
   "id": "0b38d7ff",
   "metadata": {},
   "outputs": [
    {
     "ename": "SyntaxError",
     "evalue": "positional argument follows keyword argument (2981847333.py, line 1)",
     "output_type": "error",
     "traceback": [
      "\u001b[1;36m  Input \u001b[1;32mIn [21]\u001b[1;36m\u001b[0m\n\u001b[1;33m    try1(z=30,x,y=20)\u001b[0m\n\u001b[1;37m                    ^\u001b[0m\n\u001b[1;31mSyntaxError\u001b[0m\u001b[1;31m:\u001b[0m positional argument follows keyword argument\n"
     ]
    }
   ],
   "source": [
    "try1(z=30,x,y=20)"
   ]
  },
  {
   "cell_type": "code",
   "execution_count": 23,
   "id": "8c83ad3b",
   "metadata": {},
   "outputs": [
    {
     "name": "stdout",
     "output_type": "stream",
     "text": [
      "first argument is: 2\n",
      "second argument is: 10\n",
      "third argument is: 20\n"
     ]
    },
    {
     "data": {
      "text/plain": [
       "40"
      ]
     },
     "execution_count": 23,
     "metadata": {},
     "output_type": "execute_result"
    }
   ],
   "source": [
    "try1(2,y=10,z=20)"
   ]
  },
  {
   "cell_type": "code",
   "execution_count": 4,
   "id": "4ce6ce9f",
   "metadata": {},
   "outputs": [
    {
     "ename": "NameError",
     "evalue": "name 'a' is not defined",
     "output_type": "error",
     "traceback": [
      "\u001b[1;31m---------------------------------------------------------------------------\u001b[0m",
      "\u001b[1;31mNameError\u001b[0m                                 Traceback (most recent call last)",
      "Input \u001b[1;32mIn [4]\u001b[0m, in \u001b[0;36m<cell line: 6>\u001b[1;34m()\u001b[0m\n\u001b[0;32m      4\u001b[0m     t\u001b[38;5;241m=\u001b[39m(a\u001b[38;5;241m*\u001b[39ma \u001b[38;5;241m+\u001b[39m \u001b[38;5;241m2\u001b[39m\u001b[38;5;241m*\u001b[39ma\u001b[38;5;241m*\u001b[39mb \u001b[38;5;241m+\u001b[39m b\u001b[38;5;241m*\u001b[39mb)\n\u001b[0;32m      5\u001b[0m     \u001b[38;5;28mprint\u001b[39m(\u001b[38;5;124m\"\u001b[39m\u001b[38;5;124m(a+b)^2 = \u001b[39m\u001b[38;5;124m\"\u001b[39m, t)\n\u001b[1;32m----> 6\u001b[0m sqnum(\u001b[43ma\u001b[49m,b)\n",
      "\u001b[1;31mNameError\u001b[0m: name 'a' is not defined"
     ]
    }
   ],
   "source": [
    "def sqnum(a,b):\n",
    "    a=int(input(\"enter a:\"))\n",
    "    b=int(input(\"enter b:\"))\n",
    "    t=(a*a + 2*a*b + b*b)\n",
    "    print(\"(a+b)^2 = \", t)\n",
    "sqnum(a,b)\n",
    "\n",
    "\n"
   ]
  },
  {
   "cell_type": "code",
   "execution_count": 8,
   "id": "4d8a10f1",
   "metadata": {},
   "outputs": [
    {
     "name": "stdout",
     "output_type": "stream",
     "text": [
      "enter a:2\n",
      "enter b:2\n",
      "(a+b)^2 =  16\n",
      "CONTINUE???1\n",
      "enter a:2\n",
      "enter b:2\n",
      "(a+b)^2 =  16\n",
      "CONTINUE???1\n",
      "enter a:2\n",
      "enter b:2\n",
      "(a+b)^2 =  16\n",
      "CONTINUE???0\n"
     ]
    }
   ],
   "source": [
    "ch = 1\n",
    "while(ch==1):\n",
    "    def sqnum1(a,b):\n",
    "        a=int(input(\"enter a:\"))\n",
    "        b=int(input(\"enter b:\"))\n",
    "        t=(a*a + 2*a*b + b*b)\n",
    "        print(\"(a+b)^2 = \", t)\n",
    "    sqnum1(a,b)\n",
    "    ch = int(input(\"CONTINUE???\"))"
   ]
  },
  {
   "cell_type": "code",
   "execution_count": null,
   "id": "219cc1c6",
   "metadata": {},
   "outputs": [],
   "source": [
    "\n"
   ]
  }
 ],
 "metadata": {
  "kernelspec": {
   "display_name": "Python 3 (ipykernel)",
   "language": "python",
   "name": "python3"
  },
  "language_info": {
   "codemirror_mode": {
    "name": "ipython",
    "version": 3
   },
   "file_extension": ".py",
   "mimetype": "text/x-python",
   "name": "python",
   "nbconvert_exporter": "python",
   "pygments_lexer": "ipython3",
   "version": "3.9.12"
  }
 },
 "nbformat": 4,
 "nbformat_minor": 5
}
