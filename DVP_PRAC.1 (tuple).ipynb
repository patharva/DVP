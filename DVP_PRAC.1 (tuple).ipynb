{
 "cells": [
  {
   "cell_type": "code",
   "execution_count": 1,
   "id": "5a6d92ee",
   "metadata": {},
   "outputs": [
    {
     "name": "stdout",
     "output_type": "stream",
     "text": [
      "(11, 'Aachal', 21, 'CSE')\n"
     ]
    }
   ],
   "source": [
    "#create a tuple student with student id,name,age.branch details\n",
    "stud=(11,\"Aachal\",21,\"CSE\")\n",
    "print(stud)"
   ]
  },
  {
   "cell_type": "code",
   "execution_count": 2,
   "id": "69e133db",
   "metadata": {},
   "outputs": [
    {
     "name": "stdout",
     "output_type": "stream",
     "text": [
      "Aachal\n"
     ]
    }
   ],
   "source": [
    "print(stud[1])"
   ]
  },
  {
   "cell_type": "code",
   "execution_count": 3,
   "id": "391ed5f4",
   "metadata": {},
   "outputs": [
    {
     "name": "stdout",
     "output_type": "stream",
     "text": [
      "CSE\n"
     ]
    }
   ],
   "source": [
    "print(stud[-1])"
   ]
  },
  {
   "cell_type": "code",
   "execution_count": 4,
   "id": "2d8476bb",
   "metadata": {},
   "outputs": [
    {
     "name": "stdout",
     "output_type": "stream",
     "text": [
      "('Aachal',)\n"
     ]
    }
   ],
   "source": [
    "print(stud[1:2])"
   ]
  },
  {
   "cell_type": "code",
   "execution_count": 5,
   "id": "ec1b3a37",
   "metadata": {},
   "outputs": [
    {
     "name": "stdout",
     "output_type": "stream",
     "text": [
      "(11, 'Aachal')\n"
     ]
    }
   ],
   "source": [
    "print(stud[:2])"
   ]
  },
  {
   "cell_type": "code",
   "execution_count": 6,
   "id": "227b0039",
   "metadata": {},
   "outputs": [
    {
     "name": "stdout",
     "output_type": "stream",
     "text": [
      "(11, 'Aachal')\n"
     ]
    }
   ],
   "source": [
    "print(stud[:-2])"
   ]
  },
  {
   "cell_type": "code",
   "execution_count": 7,
   "id": "9e22d8c9",
   "metadata": {},
   "outputs": [
    {
     "name": "stdout",
     "output_type": "stream",
     "text": [
      "(21, 'CSE')\n"
     ]
    }
   ],
   "source": [
    "print(stud[-2:])"
   ]
  },
  {
   "cell_type": "code",
   "execution_count": 8,
   "id": "dfde3361",
   "metadata": {},
   "outputs": [
    {
     "name": "stdout",
     "output_type": "stream",
     "text": [
      "[1, 2, 3, 4, 5, 6]\n"
     ]
    }
   ],
   "source": [
    "#list addition\n",
    "la=[1,2,3]\n",
    "lb=[4,5,6]\n",
    "print(la+lb)"
   ]
  },
  {
   "cell_type": "code",
   "execution_count": 9,
   "id": "6b310e87",
   "metadata": {},
   "outputs": [
    {
     "name": "stdout",
     "output_type": "stream",
     "text": [
      "(1, 2, 3, 4, 5, 6)\n"
     ]
    }
   ],
   "source": [
    "l1=(1,2,3)\n",
    "l2=(4,5,6)\n",
    "print(l1+l2)"
   ]
  },
  {
   "cell_type": "code",
   "execution_count": 11,
   "id": "4b90b479",
   "metadata": {},
   "outputs": [
    {
     "name": "stdout",
     "output_type": "stream",
     "text": [
      "(1, 2, 3, ['hindi', 'python'])\n"
     ]
    }
   ],
   "source": [
    "t1=(1,2,3,['hindi','python'])\n",
    "print(t1)"
   ]
  },
  {
   "cell_type": "code",
   "execution_count": 12,
   "id": "f383b463",
   "metadata": {},
   "outputs": [
    {
     "name": "stdout",
     "output_type": "stream",
     "text": [
      "(1, 2, 3, ['hindi', 'python'], 4, 5, 6)\n"
     ]
    }
   ],
   "source": [
    "t1=t1+(4,5,6)\n",
    "print(t1)"
   ]
  },
  {
   "cell_type": "code",
   "execution_count": 13,
   "id": "31fe8f0f",
   "metadata": {},
   "outputs": [
    {
     "name": "stdout",
     "output_type": "stream",
     "text": [
      "(1, 2, 3, ['english', 'python'], 4, 5, 6)\n"
     ]
    }
   ],
   "source": [
    "t1[3][0]='english'\n",
    "print(t1)"
   ]
  },
  {
   "cell_type": "code",
   "execution_count": 14,
   "id": "7da57cab",
   "metadata": {},
   "outputs": [
    {
     "ename": "TypeError",
     "evalue": "'tuple' object does not support item assignment",
     "output_type": "error",
     "traceback": [
      "\u001b[1;31m---------------------------------------------------------------------------\u001b[0m",
      "\u001b[1;31mTypeError\u001b[0m                                 Traceback (most recent call last)",
      "Input \u001b[1;32mIn [14]\u001b[0m, in \u001b[0;36m<cell line: 1>\u001b[1;34m()\u001b[0m\n\u001b[1;32m----> 1\u001b[0m t1[\u001b[38;5;241m0\u001b[39m]\u001b[38;5;241m=\u001b[39m\u001b[38;5;241m11\u001b[39m\n\u001b[0;32m      2\u001b[0m \u001b[38;5;28mprint\u001b[39m(t1)\n",
      "\u001b[1;31mTypeError\u001b[0m: 'tuple' object does not support item assignment"
     ]
    }
   ],
   "source": [
    "t1[0]=11\n",
    "print(t1)"
   ]
  },
  {
   "cell_type": "code",
   "execution_count": null,
   "id": "11933cac",
   "metadata": {},
   "outputs": [],
   "source": []
  }
 ],
 "metadata": {
  "kernelspec": {
   "display_name": "Python 3 (ipykernel)",
   "language": "python",
   "name": "python3"
  },
  "language_info": {
   "codemirror_mode": {
    "name": "ipython",
    "version": 3
   },
   "file_extension": ".py",
   "mimetype": "text/x-python",
   "name": "python",
   "nbconvert_exporter": "python",
   "pygments_lexer": "ipython3",
   "version": "3.9.12"
  }
 },
 "nbformat": 4,
 "nbformat_minor": 5
}
