{
 "cells": [
  {
   "cell_type": "code",
   "execution_count": null,
   "id": "e5d7dc84",
   "metadata": {},
   "outputs": [],
   "source": []
  },
  {
   "cell_type": "code",
   "execution_count": 1,
   "id": "e2660cd3",
   "metadata": {},
   "outputs": [
    {
     "name": "stdout",
     "output_type": "stream",
     "text": [
      "Enter the number :1\n",
      "1 is a postitive number\n",
      "This is always printed\n"
     ]
    }
   ],
   "source": [
    "num = int(input(\"Enter the number :\"))\n",
    "if num > 0:\n",
    "    print(num, \"is a postitive number\")\n",
    "    print(\"This is always printed\")\n"
   ]
  },
  {
   "cell_type": "code",
   "execution_count": 2,
   "id": "fd2e25c1",
   "metadata": {},
   "outputs": [
    {
     "name": "stdout",
     "output_type": "stream",
     "text": [
      "Enter the number :2\n",
      "2 is a postitive number\n"
     ]
    }
   ],
   "source": [
    "num = int(input(\"Enter the number :\"))\n",
    "if num > 0:\n",
    "        print(num, \"is a postitive number\")\n",
    "else:\n",
    "        print(\"The number is negative\")"
   ]
  },
  {
   "cell_type": "code",
   "execution_count": 5,
   "id": "fd388f99",
   "metadata": {},
   "outputs": [
    {
     "name": "stdout",
     "output_type": "stream",
     "text": [
      "ENTER NAME : sfdg\n",
      "ENTER ROLL NUMBER : 12\n",
      "ENTER MARKS OF 1 : 100\n",
      "ENTER MARKS OF 2 : 100\n",
      "ENTER MARKS OF 3 : 100\n",
      "10000.0\n",
      "Grade is A\n"
     ]
    }
   ],
   "source": [
    "#calculate the percentage of the  marks and display it\n",
    "#display the subject with the highest and lowest marks\n",
    "name = input(\"ENTER NAME : \")\n",
    "roll = int(input(\"ENTER ROLL NUMBER : \"))\n",
    "mark1 = int(input(\"ENTER MARKS OF 1 : \"))\n",
    "mark2 = int(input(\"ENTER MARKS OF 2 : \"))\n",
    "mark3 = int(input(\"ENTER MARKS OF 3 : \"))\n",
    "avg = (mark1+mark2+mark3)/3\n",
    "per = (avg)*100\n",
    "print(per)\n",
    "if avg > 90:\n",
    "    print(\"Grade is A\")\n",
    "elif avg >= 80:\n",
    "    print(\"Grade is B\")\n",
    "elif avg >= 70:\n",
    "    print(\"Grade is C\")\n",
    "elif avg >= 60:\n",
    "    print(\"Grade is D\")\n",
    "else:\n",
    "    print(\"Grade is F\")\n"
   ]
  },
  {
   "cell_type": "code",
   "execution_count": null,
   "id": "15ce21e8",
   "metadata": {},
   "outputs": [],
   "source": [
    "#accept an integer number form the user and display is it an even number or odd number"
   ]
  },
  {
   "cell_type": "code",
   "execution_count": null,
   "id": "a5ee406e",
   "metadata": {},
   "outputs": [],
   "source": [
    "#you are given a list of integers elements. make a new list that will store squares of elements from the previous list"
   ]
  },
  {
   "cell_type": "code",
   "execution_count": 11,
   "id": "5fb9ee89",
   "metadata": {},
   "outputs": [
    {
     "name": "stdout",
     "output_type": "stream",
     "text": [
      "The current number is:  7\n",
      "The current number is:  5\n",
      "The current number is:  3\n"
     ]
    }
   ],
   "source": [
    "for number in range(7,2,-2):\n",
    "    print(\"The current number is: \",number)"
   ]
  },
  {
   "cell_type": "code",
   "execution_count": 7,
   "id": "7f5ebfb1",
   "metadata": {},
   "outputs": [
    {
     "name": "stdout",
     "output_type": "stream",
     "text": [
      "The current number is:  1\n",
      "The current number is:  2\n",
      "The current number is:  3\n",
      "The current number is:  4\n"
     ]
    }
   ],
   "source": [
    "for number in range(1,5):\n",
    "    print(\"The current number is: \",number)"
   ]
  },
  {
   "cell_type": "code",
   "execution_count": 8,
   "id": "5676612e",
   "metadata": {},
   "outputs": [
    {
     "name": "stdout",
     "output_type": "stream",
     "text": [
      "0\n",
      "1\n",
      "2\n",
      "3\n",
      "4\n",
      "5\n",
      "6\n",
      "7\n",
      "8\n",
      "9\n"
     ]
    }
   ],
   "source": [
    "for i in range(10):\n",
    "    print(i)"
   ]
  },
  {
   "cell_type": "code",
   "execution_count": 16,
   "id": "bac75a88",
   "metadata": {},
   "outputs": [
    {
     "name": "stdout",
     "output_type": "stream",
     "text": [
      "THE SQUARE OF 1 is 1\n",
      "THE SQUARE OF 2 is 4\n",
      "THE SQUARE OF 3 is 9\n",
      "THE SQUARE OF 4 is 16\n",
      "THE SQUARE OF 5 is 25\n",
      "THE SQUARE OF 6 is 36\n",
      "THE SQUARE OF 7 is 49\n"
     ]
    }
   ],
   "source": [
    "list = [1,2,3,4,5,6,7]\n",
    "for i in list:\n",
    "    square = i*i\n",
    "    print(\"THE SQUARE OF\", i,\"is\" ,square)\n",
    "    "
   ]
  },
  {
   "cell_type": "code",
   "execution_count": 17,
   "id": "6391a64e",
   "metadata": {},
   "outputs": [
    {
     "name": "stdout",
     "output_type": "stream",
     "text": [
      "ENTER NUMBERS: 8\n",
      "0\n",
      "1\n",
      "8\n",
      "27\n",
      "64\n",
      "125\n",
      "216\n",
      "343\n"
     ]
    }
   ],
   "source": [
    "#accept 5 numbers from the user and display their cube values\n",
    "num = int(input(\"ENTER NUMBERS: \"))\n",
    "for number in range(0,num):\n",
    "    number=number*number*number\n",
    "    print(number)"
   ]
  },
  {
   "cell_type": "code",
   "execution_count": 28,
   "id": "1ccaa936",
   "metadata": {},
   "outputs": [
    {
     "name": "stdout",
     "output_type": "stream",
     "text": [
      "2\n",
      "3\n",
      "4\n",
      "5\n",
      "6\n",
      "7\n",
      "8\n",
      "8 =hi\n"
     ]
    }
   ],
   "source": [
    "number_list=[2,3,4,5,6,7,8]\n",
    "for i in number_list:\n",
    "    print (i)\n",
    "    if i==5:\n",
    "        continue\n",
    "print(i,'=hi')"
   ]
  },
  {
   "cell_type": "code",
   "execution_count": 36,
   "id": "72ee1134",
   "metadata": {},
   "outputs": [
    {
     "name": "stdout",
     "output_type": "stream",
     "text": [
      "2\n",
      "4\n",
      "5\n"
     ]
    }
   ],
   "source": [
    "a=1\n",
    "while a<5:\n",
    "    a+=1\n",
    "    if a==3:\n",
    "        continue\n",
    "    print(a)"
   ]
  },
  {
   "cell_type": "code",
   "execution_count": 32,
   "id": "b54adf5d",
   "metadata": {},
   "outputs": [
    {
     "name": "stdout",
     "output_type": "stream",
     "text": [
      "1\n",
      "2\n",
      "3\n",
      "4\n",
      "5\n",
      "6\n",
      "7\n",
      "8\n",
      "9\n",
      "10\n"
     ]
    }
   ],
   "source": [
    "a=0\n",
    "while a<10:\n",
    "    a=a+1\n",
    "    print(a)"
   ]
  },
  {
   "cell_type": "code",
   "execution_count": null,
   "id": "af316e13",
   "metadata": {},
   "outputs": [],
   "source": []
  }
 ],
 "metadata": {
  "kernelspec": {
   "display_name": "Python 3 (ipykernel)",
   "language": "python",
   "name": "python3"
  },
  "language_info": {
   "codemirror_mode": {
    "name": "ipython",
    "version": 3
   },
   "file_extension": ".py",
   "mimetype": "text/x-python",
   "name": "python",
   "nbconvert_exporter": "python",
   "pygments_lexer": "ipython3",
   "version": "3.9.12"
  }
 },
 "nbformat": 4,
 "nbformat_minor": 5
}
